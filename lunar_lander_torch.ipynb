{
 "cells": [
  {
   "cell_type": "code",
   "execution_count": 1,
   "outputs": [],
   "source": [
    "import sys\n",
    "\n",
    "IN_COLAB = \"google.colab\" in sys.modules\n",
    "if IN_COLAB:\n",
    "    !git clone https://github.com/DarthReca/RL-exercises.git\n",
    "    !apt install swig\n",
    "    !pip install gymnasium[box2d] pytorch-lightning comet_ml"
   ],
   "metadata": {
    "collapsed": false
   }
  },
  {
   "cell_type": "markdown",
   "source": [
    "# Main"
   ],
   "metadata": {
    "collapsed": false
   }
  },
  {
   "cell_type": "code",
   "execution_count": 2,
   "metadata": {
    "collapsed": true
   },
   "outputs": [],
   "source": [
    "import gymnasium as gym\n",
    "from models import DQNAgent, ReplayBuffer\n",
    "from random import random\n",
    "from lightning_lite.utilities.seed import seed_everything\n",
    "import comet_ml as cml"
   ]
  },
  {
   "cell_type": "code",
   "execution_count": 3,
   "outputs": [
    {
     "name": "stderr",
     "output_type": "stream",
     "text": [
      "Global seed set to 45\n"
     ]
    },
    {
     "data": {
      "text/plain": "45"
     },
     "execution_count": 3,
     "metadata": {},
     "output_type": "execute_result"
    }
   ],
   "source": [
    "seed_everything(45)"
   ],
   "metadata": {
    "collapsed": false
   }
  },
  {
   "cell_type": "code",
   "execution_count": 4,
   "outputs": [],
   "source": [
    "train_env = gym.make(\"LunarLander-v2\")"
   ],
   "metadata": {
    "collapsed": false
   }
  },
  {
   "cell_type": "code",
   "execution_count": 5,
   "outputs": [
    {
     "name": "stderr",
     "output_type": "stream",
     "text": [
      "COMET WARNING: Comet has disabled auto-logging functionality as it has been imported after the following ML modules: torch. Metrics and hyperparameters can still be logged using Experiment.log_metrics() and Experiment.log_parameters()\n",
      "COMET WARNING: As you are running in a Jupyter environment, you will need to call `experiment.end()` when finished to ensure all metrics and code are logged before exiting.\n",
      "COMET WARNING: Unknown error exporting current conda environment\n",
      "COMET WARNING: Unknown error retrieving Conda package as an explicit file\n",
      "COMET WARNING: Unknown error retrieving Conda information\n",
      "COMET INFO: Experiment is live on comet.com https://www.comet.com/darthreca/lunarlander/7bdc3b1568c44b52979d20ba42100b44\n",
      "\n"
     ]
    }
   ],
   "source": [
    "experiment = cml.Experiment(api_key=\"\", workspace=\"darthreca\", project_name=\"LunarLander\")"
   ],
   "metadata": {
    "collapsed": false
   }
  },
  {
   "cell_type": "code",
   "execution_count": 14,
   "outputs": [
    {
     "data": {
      "text/plain": "8"
     },
     "execution_count": 14,
     "metadata": {},
     "output_type": "execute_result"
    }
   ],
   "source": [
    "gym.spaces.flatdim(train_env.observation_space)"
   ],
   "metadata": {
    "collapsed": false
   }
  },
  {
   "cell_type": "code",
   "execution_count": 20,
   "outputs": [],
   "source": [
    "args = {\n",
    "    \"state_dim\": gym.spaces.flatdim(train_env.observation_space),\n",
    "    \"action_dim\": gym.spaces.flatdim(train_env.action_space),\n",
    "    \"net_width\": 200,\n",
    "    \"batch_size\": 512,\n",
    "    \"gamma\": 0.5,\n",
    "    \"exp_noise\":  0.2,\n",
    "    \"env_with_dw\": True,\n",
    "    \"DDQN\": False,\n",
    "    \"lr\": 1e-3\n",
    "}\n",
    "agent = DQNAgent(experiment=experiment, **args)\n",
    "buffer = ReplayBuffer(args[\"state_dim\"], max_size=int(1e6))"
   ],
   "metadata": {
    "collapsed": false
   }
  },
  {
   "cell_type": "markdown",
   "source": [
    "# Training"
   ],
   "metadata": {
    "collapsed": false
   }
  },
  {
   "cell_type": "code",
   "execution_count": 21,
   "outputs": [],
   "source": [
    "def epsilon_greedy(env: gym.Env, state, epsilon: float):\n",
    "    if random() < epsilon:\n",
    "        return env.action_space.sample()\n",
    "    return agent.select_action(state, True)"
   ],
   "metadata": {
    "collapsed": false
   }
  },
  {
   "cell_type": "code",
   "execution_count": 22,
   "outputs": [],
   "source": [
    "STEPS_BEFORE_TRAINING = 10000\n",
    "LEARNING_FREQUENCY = 500"
   ],
   "metadata": {
    "collapsed": false
   }
  },
  {
   "cell_type": "code",
   "execution_count": 23,
   "outputs": [],
   "source": [
    "experiment.log_parameters(args)\n",
    "experiment.log_parameters({\n",
    "    \"warming_steps\": STEPS_BEFORE_TRAINING,\n",
    "    \"learning_frequency\": LEARNING_FREQUENCY\n",
    "})"
   ],
   "metadata": {
    "collapsed": false
   }
  },
  {
   "cell_type": "code",
   "execution_count": 25,
   "outputs": [
    {
     "name": "stderr",
     "output_type": "stream",
     "text": [
      "COMET INFO: ---------------------------\n",
      "COMET INFO: Comet.ml Experiment Summary\n",
      "COMET INFO: ---------------------------\n",
      "COMET INFO:   Data:\n",
      "COMET INFO:     display_summary_level : 1\n",
      "COMET INFO:     url                   : https://www.comet.com/darthreca/lunarlander/7bdc3b1568c44b52979d20ba42100b44\n",
      "COMET INFO:   Metrics:\n",
      "COMET INFO:     episode_length : 116\n",
      "COMET INFO:     episode_reward : -54.69039032789946\n",
      "COMET INFO:   Parameters:\n",
      "COMET INFO:     DDQN               : False\n",
      "COMET INFO:     action_dim         : 4\n",
      "COMET INFO:     batch_size         : 512\n",
      "COMET INFO:     env_with_dw        : True\n",
      "COMET INFO:     exp_noise          : 0.2\n",
      "COMET INFO:     gamma              : 0.5\n",
      "COMET INFO:     learning_frequency : 500\n",
      "COMET INFO:     lr                 : 0.001\n",
      "COMET INFO:     net_width          : 200\n",
      "COMET INFO:     state_dim          : 8\n",
      "COMET INFO:     warming_steps      : 10000\n",
      "COMET INFO:   Uploads:\n",
      "COMET INFO:     environment details      : 1\n",
      "COMET INFO:     filename                 : 1\n",
      "COMET INFO:     git metadata             : 1\n",
      "COMET INFO:     git-patch (uncompressed) : 1 (318.38 KB)\n",
      "COMET INFO:     installed packages       : 1\n",
      "COMET INFO:     notebook                 : 1\n",
      "COMET INFO:     source_code              : 1\n",
      "COMET INFO: ---------------------------\n",
      "COMET WARNING: Comet has disabled auto-logging functionality as it has been imported after the following ML modules: torch. Metrics and hyperparameters can still be logged using Experiment.log_metrics() and Experiment.log_parameters()\n",
      "COMET INFO: Uploading metrics, params, and assets to Comet before program termination (may take several seconds)\n",
      "COMET INFO: The Python SDK has 3600 seconds to finish before aborting...\n",
      "COMET INFO: Waiting for completion of the file uploads (may take several seconds)\n",
      "COMET INFO: The Python SDK has 10800 seconds to finish before aborting...\n",
      "COMET INFO: Still uploading 2 file(s), remaining 16.50 KB/187.71 KB\n"
     ]
    }
   ],
   "source": [
    "steps = 0\n",
    "for episode in range(100000):\n",
    "    obs, _ = train_env.reset()\n",
    "    term, trunc = False, False\n",
    "    episode_reward, episode_length = 0, 0\n",
    "    while not (term or trunc):\n",
    "        # Take action and add to buffer\n",
    "        action = epsilon_greedy(train_env, obs, 1)\n",
    "        next_obs, reward, term, trunc, _ = train_env.step(action)\n",
    "        buffer.add(obs, action, reward, next_obs, term or trunc)\n",
    "        # Learn\n",
    "        if steps > STEPS_BEFORE_TRAINING and steps % LEARNING_FREQUENCY == 0:\n",
    "            for i in range(LEARNING_FREQUENCY):\n",
    "                agent.train(buffer, i)\n",
    "        # Updated accumulated metrics\n",
    "        episode_length += 1\n",
    "        episode_reward += reward\n",
    "        # Update\n",
    "        obs = next_obs\n",
    "        steps += 1\n",
    "    metrics = {\"episode_reward\": episode_reward, \"episode_length\": episode_length}\n",
    "    experiment.log_metrics(metrics, step=steps, epoch=episode)\n",
    "experiment.end()\n",
    "train_env.close()"
   ],
   "metadata": {
    "collapsed": false
   }
  },
  {
   "cell_type": "code",
   "execution_count": null,
   "outputs": [],
   "source": [],
   "metadata": {
    "collapsed": false
   }
  }
 ],
 "metadata": {
  "kernelspec": {
   "display_name": "Python 3",
   "language": "python",
   "name": "python3"
  },
  "language_info": {
   "codemirror_mode": {
    "name": "ipython",
    "version": 2
   },
   "file_extension": ".py",
   "mimetype": "text/x-python",
   "name": "python",
   "nbconvert_exporter": "python",
   "pygments_lexer": "ipython2",
   "version": "2.7.6"
  }
 },
 "nbformat": 4,
 "nbformat_minor": 0
}
