{
 "cells": [
  {
   "cell_type": "markdown",
   "source": [],
   "metadata": {
    "collapsed": false
   }
  },
  {
   "cell_type": "code",
   "execution_count": 9,
   "metadata": {
    "collapsed": true
   },
   "outputs": [],
   "source": [
    "import comet_ml as comet\n",
    "import torch\n",
    "from ray.rllib.algorithms.dqn import DQNConfig, DQN\n",
    "from ray import tune\n",
    "from ray import air\n",
    "from ray.air.integrations.comet import CometLoggerCallback\n",
    "from ray.tune import logger"
   ]
  },
  {
   "cell_type": "code",
   "execution_count": 3,
   "outputs": [],
   "source": [
    "config = DQNConfig().training(num_atoms=1,\n",
    "                             td_error_loss_fn=\"huber\",\n",
    "                             gamma=0.5,\n",
    "                             train_batch_size=64,\n",
    "                             lr_schedule=[(1, 1e-2), (1e5, 1e-5)])\n",
    "config = config.environment(\"LunarLander-v2\")\n",
    "config = config.framework(framework=\"torch\")\n",
    "config = config.rollouts(num_rollout_workers=2, num_envs_per_worker=2,validate_workers_after_construction=True)\n",
    "config = config.evaluation(evaluation_interval=10000, evaluation_duration=10)\n",
    "config = config.exploration(exploration_config={\"type\": \"EpsilonGreedy\",\n",
    "                                                \"warmup_timesteps\": 0,\n",
    "                                                \"epsilon_timesteps\": 90000})\n",
    "config = config.resources(num_gpus=1 if torch.cuda.is_available() else 0)"
   ],
   "metadata": {
    "collapsed": false
   }
  },
  {
   "cell_type": "code",
   "execution_count": 4,
   "outputs": [],
   "source": [
    "comet_logger = CometLoggerCallback(tags=[\"TRIAL1\"], project_name=\"darthreca\",\n",
    "                                   api_key=\"\")\n",
    "run_config = air.config.RunConfig(stop=tune.stopper.MaximumIterationStopper(200000),\n",
    "                                  callbacks=[comet_logger],\n",
    "                                  local_dir=\"./logs/ray_results\")\n",
    "tune_config = tune.TuneConfig(mode=\"max\", metric=\"\")"
   ],
   "metadata": {
    "collapsed": false
   }
  },
  {
   "cell_type": "code",
   "execution_count": 10,
   "outputs": [
    {
     "name": "stderr",
     "output_type": "stream",
     "text": [
      "2023-01-07 23:21:29,892\tERROR services.py:1195 -- Failed to start the dashboard: Failed to start the dashboard\n",
      " The last 10 lines of C:\\Users\\darth\\AppData\\Local\\Temp\\ray\\session_2023-01-07_23-20-57_567908_18528\\logs\\dashboard.log:\n",
      "2023-01-07 23:21:24,170\tINFO head.py:232 -- Starting dashboard metrics server on port 44227\r\n",
      "2023-01-07 23:21:24,231\tINFO utils.py:112 -- Get all modules by type: DashboardHeadModule\r\n",
      "\n",
      "2023-01-07 23:21:29,905\tERROR services.py:1196 -- Failed to start the dashboard\n",
      " The last 10 lines of C:\\Users\\darth\\AppData\\Local\\Temp\\ray\\session_2023-01-07_23-20-57_567908_18528\\logs\\dashboard.log:\n",
      "2023-01-07 23:21:24,170\tINFO head.py:232 -- Starting dashboard metrics server on port 44227\r\n",
      "2023-01-07 23:21:24,231\tINFO utils.py:112 -- Get all modules by type: DashboardHeadModule\r\n",
      "Traceback (most recent call last):\n",
      "  File \"D:\\PythonEnvs\\rl-env\\lib\\site-packages\\ray\\_private\\services.py\", line 1181, in start_api_server\n",
      "    raise Exception(err_msg + last_log_str)\n",
      "Exception: Failed to start the dashboard\n",
      " The last 10 lines of C:\\Users\\darth\\AppData\\Local\\Temp\\ray\\session_2023-01-07_23-20-57_567908_18528\\logs\\dashboard.log:\n",
      "2023-01-07 23:21:24,170\tINFO head.py:232 -- Starting dashboard metrics server on port 44227\r\n",
      "2023-01-07 23:21:24,231\tINFO utils.py:112 -- Get all modules by type: DashboardHeadModule\r\n",
      "\n",
      "2023-01-07 23:21:37,161\tINFO worker.py:1538 -- Started a local Ray instance.\n"
     ]
    },
    {
     "name": "stdout",
     "output_type": "stream",
     "text": [
      "\u001B[2m\u001B[36m(pid=53580)\u001B[0m \n",
      "\u001B[2m\u001B[36m(pid=53580)\u001B[0m \n",
      "\u001B[2m\u001B[36m(pid=53580)\u001B[0m Failed to import TensorFlow. Please note that TensorFlow is not installed by default when you install TensorFlow Probability. This is so that users can decide whether to install the GPU-enabled TensorFlow package. To use TensorFlow Probability, please install the most recent version of TensorFlow, by following instructions at https://tensorflow.org/install.\n",
      "\u001B[2m\u001B[36m(pid=53580)\u001B[0m \n",
      "\u001B[2m\u001B[36m(pid=53580)\u001B[0m \n",
      "\u001B[2m\u001B[36m(pid=13964)\u001B[0m \n",
      "\u001B[2m\u001B[36m(pid=13964)\u001B[0m \n",
      "\u001B[2m\u001B[36m(pid=13964)\u001B[0m Failed to import TensorFlow. Please note that TensorFlow is not installed by default when you install TensorFlow Probability. This is so that users can decide whether to install the GPU-enabled TensorFlow package. To use TensorFlow Probability, please install the most recent version of TensorFlow, by following instructions at https://tensorflow.org/install.\n",
      "\u001B[2m\u001B[36m(pid=13964)\u001B[0m \n",
      "\u001B[2m\u001B[36m(pid=13964)\u001B[0m \n"
     ]
    },
    {
     "name": "stderr",
     "output_type": "stream",
     "text": [
      "2023-01-07 23:23:36,430\tINFO trainable.py:172 -- Trainable.setup took 160.040 seconds. If your trainable is slow to initialize, consider setting reuse_actors=True to reduce actor creation overheads.\n",
      "2023-01-07 23:23:36,441\tWARNING util.py:66 -- Install gputil for GPU system monitoring.\n"
     ]
    },
    {
     "ename": "TuneError",
     "evalue": "Improper 'run' - not string nor trainable.",
     "output_type": "error",
     "traceback": [
      "\u001B[1;31m---------------------------------------------------------------------------\u001B[0m",
      "\u001B[1;31mTuneError\u001B[0m                                 Traceback (most recent call last)",
      "Cell \u001B[1;32mIn[10], line 1\u001B[0m\n\u001B[1;32m----> 1\u001B[0m \u001B[43mtune\u001B[49m\u001B[38;5;241;43m.\u001B[39;49m\u001B[43mTuner\u001B[49m\u001B[43m(\u001B[49m\u001B[43mDQN\u001B[49m\u001B[43m(\u001B[49m\u001B[43mconfig\u001B[49m\u001B[43m)\u001B[49m\u001B[43m,\u001B[49m\u001B[43m \u001B[49m\u001B[43mrun_config\u001B[49m\u001B[38;5;241;43m=\u001B[39;49m\u001B[43mrun_config\u001B[49m\u001B[43m)\u001B[49m\u001B[38;5;241m.\u001B[39mfit()\n",
      "File \u001B[1;32mD:\\PythonEnvs\\rl-env\\lib\\site-packages\\ray\\tune\\tuner.py:152\u001B[0m, in \u001B[0;36mTuner.__init__\u001B[1;34m(self, trainable, param_space, tune_config, run_config, _tuner_kwargs, _tuner_internal)\u001B[0m\n\u001B[0;32m    150\u001B[0m kwargs\u001B[38;5;241m.\u001B[39mpop(_SELF, \u001B[38;5;28;01mNone\u001B[39;00m)\n\u001B[0;32m    151\u001B[0m \u001B[38;5;28;01mif\u001B[39;00m \u001B[38;5;129;01mnot\u001B[39;00m \u001B[38;5;28mself\u001B[39m\u001B[38;5;241m.\u001B[39m_is_ray_client:\n\u001B[1;32m--> 152\u001B[0m     \u001B[38;5;28mself\u001B[39m\u001B[38;5;241m.\u001B[39m_local_tuner \u001B[38;5;241m=\u001B[39m TunerInternal(\u001B[38;5;241m*\u001B[39m\u001B[38;5;241m*\u001B[39mkwargs)\n\u001B[0;32m    153\u001B[0m \u001B[38;5;28;01melse\u001B[39;00m:\n\u001B[0;32m    154\u001B[0m     \u001B[38;5;28mself\u001B[39m\u001B[38;5;241m.\u001B[39m_remote_tuner \u001B[38;5;241m=\u001B[39m _force_on_current_node(\n\u001B[0;32m    155\u001B[0m         ray\u001B[38;5;241m.\u001B[39mremote(num_cpus\u001B[38;5;241m=\u001B[39m\u001B[38;5;241m0\u001B[39m)(TunerInternal)\n\u001B[0;32m    156\u001B[0m     )\u001B[38;5;241m.\u001B[39mremote(\u001B[38;5;241m*\u001B[39m\u001B[38;5;241m*\u001B[39mkwargs)\n",
      "File \u001B[1;32mD:\\PythonEnvs\\rl-env\\lib\\site-packages\\ray\\tune\\impl\\tuner_internal.py:110\u001B[0m, in \u001B[0;36mTunerInternal.__init__\u001B[1;34m(self, restore_path, resume_config, trainable, param_space, tune_config, run_config, _tuner_kwargs)\u001B[0m\n\u001B[0;32m    107\u001B[0m \u001B[38;5;28mself\u001B[39m\u001B[38;5;241m.\u001B[39m_resume_config \u001B[38;5;241m=\u001B[39m \u001B[38;5;28;01mNone\u001B[39;00m\n\u001B[0;32m    109\u001B[0m \u001B[38;5;28mself\u001B[39m\u001B[38;5;241m.\u001B[39m_tuner_kwargs \u001B[38;5;241m=\u001B[39m copy\u001B[38;5;241m.\u001B[39mdeepcopy(_tuner_kwargs) \u001B[38;5;129;01mor\u001B[39;00m {}\n\u001B[1;32m--> 110\u001B[0m \u001B[38;5;28mself\u001B[39m\u001B[38;5;241m.\u001B[39m_experiment_checkpoint_dir \u001B[38;5;241m=\u001B[39m \u001B[38;5;28;43mself\u001B[39;49m\u001B[38;5;241;43m.\u001B[39;49m\u001B[43m_setup_create_experiment_checkpoint_dir\u001B[49m\u001B[43m(\u001B[49m\n\u001B[0;32m    111\u001B[0m \u001B[43m    \u001B[49m\u001B[38;5;28;43mself\u001B[39;49m\u001B[38;5;241;43m.\u001B[39;49m\u001B[43m_run_config\u001B[49m\n\u001B[0;32m    112\u001B[0m \u001B[43m\u001B[49m\u001B[43m)\u001B[49m\n\u001B[0;32m    114\u001B[0m \u001B[38;5;28mself\u001B[39m\u001B[38;5;241m.\u001B[39m_experiment_analysis \u001B[38;5;241m=\u001B[39m \u001B[38;5;28;01mNone\u001B[39;00m\n\u001B[0;32m    116\u001B[0m \u001B[38;5;66;03m# Not used for restored Tuner.\u001B[39;00m\n",
      "File \u001B[1;32mD:\\PythonEnvs\\rl-env\\lib\\site-packages\\ray\\tune\\impl\\tuner_internal.py:378\u001B[0m, in \u001B[0;36mTunerInternal._setup_create_experiment_checkpoint_dir\u001B[1;34m(self, run_config)\u001B[0m\n\u001B[0;32m    374\u001B[0m \u001B[38;5;28;01mdef\u001B[39;00m \u001B[38;5;21m_setup_create_experiment_checkpoint_dir\u001B[39m(\n\u001B[0;32m    375\u001B[0m     \u001B[38;5;28mself\u001B[39m, run_config: Optional[RunConfig]\n\u001B[0;32m    376\u001B[0m ) \u001B[38;5;241m-\u001B[39m\u001B[38;5;241m>\u001B[39m \u001B[38;5;28mstr\u001B[39m:\n\u001B[0;32m    377\u001B[0m     \u001B[38;5;124;03m\"\"\"Sets up experiment checkpoint dir before actually running the experiment.\"\"\"\u001B[39;00m\n\u001B[1;32m--> 378\u001B[0m     path \u001B[38;5;241m=\u001B[39m \u001B[43mExperiment\u001B[49m\u001B[38;5;241;43m.\u001B[39;49m\u001B[43mget_experiment_checkpoint_dir\u001B[49m\u001B[43m(\u001B[49m\n\u001B[0;32m    379\u001B[0m \u001B[43m        \u001B[49m\u001B[38;5;28;43mself\u001B[39;49m\u001B[38;5;241;43m.\u001B[39;49m\u001B[43mconverted_trainable\u001B[49m\u001B[43m,\u001B[49m\n\u001B[0;32m    380\u001B[0m \u001B[43m        \u001B[49m\u001B[43mrun_config\u001B[49m\u001B[38;5;241;43m.\u001B[39;49m\u001B[43mlocal_dir\u001B[49m\u001B[43m,\u001B[49m\n\u001B[0;32m    381\u001B[0m \u001B[43m        \u001B[49m\u001B[43mrun_config\u001B[49m\u001B[38;5;241;43m.\u001B[39;49m\u001B[43mname\u001B[49m\u001B[43m,\u001B[49m\n\u001B[0;32m    382\u001B[0m \u001B[43m    \u001B[49m\u001B[43m)\u001B[49m\n\u001B[0;32m    383\u001B[0m     \u001B[38;5;28;01mif\u001B[39;00m \u001B[38;5;129;01mnot\u001B[39;00m os\u001B[38;5;241m.\u001B[39mpath\u001B[38;5;241m.\u001B[39mexists(path):\n\u001B[0;32m    384\u001B[0m         os\u001B[38;5;241m.\u001B[39mmakedirs(path, exist_ok\u001B[38;5;241m=\u001B[39m\u001B[38;5;28;01mTrue\u001B[39;00m)\n",
      "File \u001B[1;32mD:\\PythonEnvs\\rl-env\\lib\\site-packages\\ray\\tune\\experiment\\experiment.py:418\u001B[0m, in \u001B[0;36mExperiment.get_experiment_checkpoint_dir\u001B[1;34m(cls, run_obj, local_dir, name)\u001B[0m\n\u001B[0;32m    416\u001B[0m \u001B[38;5;28;01massert\u001B[39;00m run_obj\n\u001B[0;32m    417\u001B[0m local_dir \u001B[38;5;241m=\u001B[39m _get_local_dir_with_expand_user(local_dir)\n\u001B[1;32m--> 418\u001B[0m run_identifier \u001B[38;5;241m=\u001B[39m \u001B[38;5;28;43mcls\u001B[39;49m\u001B[38;5;241;43m.\u001B[39;49m\u001B[43mget_trainable_name\u001B[49m\u001B[43m(\u001B[49m\u001B[43mrun_obj\u001B[49m\u001B[43m)\u001B[49m\n\u001B[0;32m    419\u001B[0m combined_name \u001B[38;5;241m=\u001B[39m name \u001B[38;5;129;01mor\u001B[39;00m run_identifier\n\u001B[0;32m    421\u001B[0m dir_name \u001B[38;5;241m=\u001B[39m _get_dir_name(run_obj, name, combined_name)\n",
      "File \u001B[1;32mD:\\PythonEnvs\\rl-env\\lib\\site-packages\\ray\\tune\\experiment\\experiment.py:359\u001B[0m, in \u001B[0;36mExperiment.get_trainable_name\u001B[1;34m(cls, run_object)\u001B[0m\n\u001B[0;32m    357\u001B[0m     \u001B[38;5;28;01mreturn\u001B[39;00m name\n\u001B[0;32m    358\u001B[0m \u001B[38;5;28;01melse\u001B[39;00m:\n\u001B[1;32m--> 359\u001B[0m     \u001B[38;5;28;01mraise\u001B[39;00m TuneError(\u001B[38;5;124m\"\u001B[39m\u001B[38;5;124mImproper \u001B[39m\u001B[38;5;124m'\u001B[39m\u001B[38;5;124mrun\u001B[39m\u001B[38;5;124m'\u001B[39m\u001B[38;5;124m - not string nor trainable.\u001B[39m\u001B[38;5;124m\"\u001B[39m)\n",
      "\u001B[1;31mTuneError\u001B[0m: Improper 'run' - not string nor trainable."
     ]
    }
   ],
   "source": [
    "tune.Tuner(\"DQN\", run_config=run_config).fit()"
   ],
   "metadata": {
    "collapsed": false
   }
  },
  {
   "cell_type": "code",
   "execution_count": null,
   "outputs": [],
   "source": [],
   "metadata": {
    "collapsed": false
   }
  }
 ],
 "metadata": {
  "kernelspec": {
   "display_name": "Python 3",
   "language": "python",
   "name": "python3"
  },
  "language_info": {
   "codemirror_mode": {
    "name": "ipython",
    "version": 2
   },
   "file_extension": ".py",
   "mimetype": "text/x-python",
   "name": "python",
   "nbconvert_exporter": "python",
   "pygments_lexer": "ipython2",
   "version": "2.7.6"
  }
 },
 "nbformat": 4,
 "nbformat_minor": 0
}
